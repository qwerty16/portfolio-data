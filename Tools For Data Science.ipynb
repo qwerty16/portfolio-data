{
    "cells": [
        {
            "metadata": {
                "collapsed": true
            },
            "cell_type": "markdown",
            "source": "# My Jupyter Notebook on IBM Watson Studio"
        },
        {
            "metadata": {},
            "cell_type": "markdown",
            "source": "**Rachel Armstrong**\n\nData Scientist"
        },
        {
            "metadata": {},
            "cell_type": "markdown",
            "source": "*I am interested in Data Science because I am curious about information and how it can be manipulated to discover insights. I then want to be able to communicate those insights to others effectively.*"
        },
        {
            "metadata": {},
            "cell_type": "markdown",
            "source": "### Adds 1+1 and prints the result"
        },
        {
            "metadata": {},
            "cell_type": "code",
            "source": "print(f\"The result of 1 + 1 is {1+1}\")",
            "execution_count": 1,
            "outputs": [
                {
                    "output_type": "stream",
                    "text": "The result of 1 + 1 is 2\n",
                    "name": "stdout"
                }
            ]
        },
        {
            "metadata": {},
            "cell_type": "markdown",
            "source": "* Bullet 1\n* Bullet 2\n\n1. Numbered list 1\n2. Numbered list 2\n\nBlock quote of text:\n\n`print(f\"The result of 1 + 1 is {1+1}\")`"
        }
    ],
    "metadata": {
        "kernelspec": {
            "name": "python3",
            "display_name": "Python 3.9",
            "language": "python"
        },
        "language_info": {
            "name": "python",
            "version": "3.9.7",
            "mimetype": "text/x-python",
            "codemirror_mode": {
                "name": "ipython",
                "version": 3
            },
            "pygments_lexer": "ipython3",
            "nbconvert_exporter": "python",
            "file_extension": ".py"
        }
    },
    "nbformat": 4,
    "nbformat_minor": 1
}