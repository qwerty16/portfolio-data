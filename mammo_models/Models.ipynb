{
 "cells": [
  {
   "cell_type": "markdown",
   "metadata": {
    "deletable": true,
    "editable": true
   },
   "source": [
    "# Predicting whether a mammogram mass is benign or malignant\n",
    "\n",
    "Source data: https://archive.ics.uci.edu/ml/datasets/Mammographic+Mass)\n",
    "\n",
    "This data contains 961 instances of masses detected in mammograms, and contains the following attributes:\n",
    "\n",
    "   1. BI-RADS assessment: 1 to 5 (ordinal)  \n",
    "   2. Age: patient's age in years (integer)\n",
    "   3. Shape: mass shape: round=1 oval=2 lobular=3 irregular=4 (nominal)\n",
    "   4. Margin: mass margin: circumscribed=1 microlobulated=2 obscured=3 ill-defined=4 spiculated=5 (nominal)\n",
    "   5. Density: mass density high=1 iso=2 low=3 fat-containing=4 (ordinal)\n",
    "   6. Severity: benign=0 or malignant=1 (binominal)\n",
    "   \n",
    "BI-RADS is an assesment of how confident the severity classification is; it is not a \"predictive\" attribute and so we will discard it. The age, shape, margin, and density attributes are the features that we will build our model with, and \"severity\" is the classification we will attempt to predict based on those attributes.\n",
    "\n",
    "A lot of unnecessary anguish and surgery arises from false positives arising from mammogram results. If we can build a better way to interpret them through supervised machine learning, it could improve a lot of lives.\n"
   ]
  },
  {
   "cell_type": "markdown",
   "metadata": {},
   "source": [
    "## Import required libraries"
   ]
  },
  {
   "cell_type": "code",
   "execution_count": 1,
   "metadata": {},
   "outputs": [],
   "source": [
    "import pandas as pd\n",
    "from sklearn.preprocessing import StandardScaler\n",
    "from sklearn import tree\n",
    "from sklearn import metrics\n",
    "from sklearn.model_selection import train_test_split\n",
    "from sklearn.model_selection import cross_val_score\n",
    "from sklearn.ensemble import RandomForestClassifier\n",
    "from sklearn import svm\n",
    "from sklearn.neighbors import KNeighborsClassifier\n",
    "from sklearn.linear_model import LogisticRegression\n",
    "import matplotlib.pyplot as plt"
   ]
  },
  {
   "cell_type": "markdown",
   "metadata": {
    "deletable": true,
    "editable": true
   },
   "source": [
    "## Prepare data"
   ]
  },
  {
   "cell_type": "code",
   "execution_count": 2,
   "metadata": {},
   "outputs": [
    {
     "data": {
      "text/html": [
       "<div>\n",
       "<style scoped>\n",
       "    .dataframe tbody tr th:only-of-type {\n",
       "        vertical-align: middle;\n",
       "    }\n",
       "\n",
       "    .dataframe tbody tr th {\n",
       "        vertical-align: top;\n",
       "    }\n",
       "\n",
       "    .dataframe thead th {\n",
       "        text-align: right;\n",
       "    }\n",
       "</style>\n",
       "<table border=\"1\" class=\"dataframe\">\n",
       "  <thead>\n",
       "    <tr style=\"text-align: right;\">\n",
       "      <th></th>\n",
       "      <th>BI_RADS</th>\n",
       "      <th>age</th>\n",
       "      <th>shape</th>\n",
       "      <th>margin</th>\n",
       "      <th>density</th>\n",
       "      <th>severity</th>\n",
       "    </tr>\n",
       "  </thead>\n",
       "  <tbody>\n",
       "    <tr>\n",
       "      <th>0</th>\n",
       "      <td>5.0</td>\n",
       "      <td>67.0</td>\n",
       "      <td>3.0</td>\n",
       "      <td>5.0</td>\n",
       "      <td>3.0</td>\n",
       "      <td>1</td>\n",
       "    </tr>\n",
       "    <tr>\n",
       "      <th>2</th>\n",
       "      <td>5.0</td>\n",
       "      <td>58.0</td>\n",
       "      <td>4.0</td>\n",
       "      <td>5.0</td>\n",
       "      <td>3.0</td>\n",
       "      <td>1</td>\n",
       "    </tr>\n",
       "    <tr>\n",
       "      <th>3</th>\n",
       "      <td>4.0</td>\n",
       "      <td>28.0</td>\n",
       "      <td>1.0</td>\n",
       "      <td>1.0</td>\n",
       "      <td>3.0</td>\n",
       "      <td>0</td>\n",
       "    </tr>\n",
       "    <tr>\n",
       "      <th>8</th>\n",
       "      <td>5.0</td>\n",
       "      <td>57.0</td>\n",
       "      <td>1.0</td>\n",
       "      <td>5.0</td>\n",
       "      <td>3.0</td>\n",
       "      <td>1</td>\n",
       "    </tr>\n",
       "    <tr>\n",
       "      <th>10</th>\n",
       "      <td>5.0</td>\n",
       "      <td>76.0</td>\n",
       "      <td>1.0</td>\n",
       "      <td>4.0</td>\n",
       "      <td>3.0</td>\n",
       "      <td>1</td>\n",
       "    </tr>\n",
       "  </tbody>\n",
       "</table>\n",
       "</div>"
      ],
      "text/plain": [
       "    BI_RADS   age  shape  margin  density  severity\n",
       "0       5.0  67.0    3.0     5.0      3.0         1\n",
       "2       5.0  58.0    4.0     5.0      3.0         1\n",
       "3       4.0  28.0    1.0     1.0      3.0         0\n",
       "8       5.0  57.0    1.0     5.0      3.0         1\n",
       "10      5.0  76.0    1.0     4.0      3.0         1"
      ]
     },
     "execution_count": 2,
     "metadata": {},
     "output_type": "execute_result"
    }
   ],
   "source": [
    "headers = [\"BI_RADS\", \"age\", \"shape\", \"margin\", \"density\", \"severity\"]\n",
    "data = pd.read_csv(\"mammographic_masses.data.txt\", names=headers, na_values=\"?\")\n",
    "data.dropna(inplace=True)\n",
    "data.head()"
   ]
  },
  {
   "cell_type": "code",
   "execution_count": 3,
   "metadata": {
    "collapsed": false,
    "deletable": true,
    "editable": true
   },
   "outputs": [],
   "source": [
    "features = data[[\"age\", \"shape\", \"margin\", \"density\"]].to_numpy(copy=True)\n",
    "target = data[\"severity\"].to_numpy(copy=True)\n",
    "feature_names = data[[\"age\", \"shape\", \"margin\", \"density\"]].columns.to_numpy(copy=True)"
   ]
  },
  {
   "cell_type": "markdown",
   "metadata": {
    "deletable": true,
    "editable": true
   },
   "source": [
    "Some of our models require the input data to be normalized."
   ]
  },
  {
   "cell_type": "code",
   "execution_count": 4,
   "metadata": {
    "collapsed": false,
    "deletable": true,
    "editable": true
   },
   "outputs": [],
   "source": [
    "scaler = StandardScaler()\n",
    "transformed_features = scaler.fit_transform(features)"
   ]
  },
  {
   "cell_type": "markdown",
   "metadata": {},
   "source": [
    "We also need to be able to validate our results."
   ]
  },
  {
   "cell_type": "code",
   "execution_count": 5,
   "metadata": {},
   "outputs": [],
   "source": [
    "x_train, x_test, y_train, y_test = train_test_split(transformed_features, target, train_size=0.75)"
   ]
  },
  {
   "cell_type": "markdown",
   "metadata": {},
   "source": [
    "Create a dictionary in which to store the models that we are creating."
   ]
  },
  {
   "cell_type": "code",
   "execution_count": 6,
   "metadata": {},
   "outputs": [],
   "source": [
    "models = {}"
   ]
  },
  {
   "cell_type": "markdown",
   "metadata": {},
   "source": [
    "## Function to display scores of models"
   ]
  },
  {
   "cell_type": "code",
   "execution_count": 7,
   "metadata": {},
   "outputs": [],
   "source": [
    "def print_scores(models, y_test):\n",
    "    print(\"Model\\t\\t\\tAccuracy\\tPrecision\\tRecall\")\n",
    "    for model_name, model in models.items():\n",
    "        accuracy = cross_val_score(model, x_train, y_train, cv=10).mean() * 100\n",
    "        precision = cross_val_score(model, x_train, y_train, cv=10, scoring=\"precision\").mean() * 100\n",
    "        recall = cross_val_score(model, x_train, y_train, cv=10, scoring=\"recall\").mean() * 100\n",
    "        print(f\"{model_name}\\t\\t{accuracy:.0f} %\\t\\t{precision:.0f} %\\t\\t{recall:.0f} %\")"
   ]
  },
  {
   "cell_type": "markdown",
   "metadata": {
    "deletable": true,
    "editable": true
   },
   "source": [
    "## Decision Tree / Random Forest"
   ]
  },
  {
   "cell_type": "code",
   "execution_count": 8,
   "metadata": {
    "collapsed": false,
    "deletable": true,
    "editable": true
   },
   "outputs": [],
   "source": [
    "DecisionTreeClassifier = tree.DecisionTreeClassifier().fit(x_train, y_train)\n",
    "models[\"DecisionTree\"] = DecisionTreeClassifier"
   ]
  },
  {
   "cell_type": "code",
   "execution_count": 9,
   "metadata": {},
   "outputs": [],
   "source": [
    "RandomForest = RandomForestClassifier(n_estimators=10).fit(x_train, y_train)\n",
    "models['RandomForest'] = RandomForest"
   ]
  },
  {
   "cell_type": "markdown",
   "metadata": {
    "deletable": true,
    "editable": true
   },
   "source": [
    "## SVM"
   ]
  },
  {
   "cell_type": "code",
   "execution_count": 10,
   "metadata": {},
   "outputs": [],
   "source": [
    "C = 1.0\n",
    "svc_kernels = [\"linear\", \"rbf\", \"sigmoid\", \"poly\"]\n",
    "for kernel in svc_kernels:\n",
    "    svc_model = svm.SVC(kernel=kernel, C=C).fit(x_train, y_train)\n",
    "    models[f\"SVC ({kernel})\"] = svc_model"
   ]
  },
  {
   "cell_type": "markdown",
   "metadata": {
    "deletable": true,
    "editable": true
   },
   "source": [
    "## KNN"
   ]
  },
  {
   "cell_type": "code",
   "execution_count": 11,
   "metadata": {},
   "outputs": [],
   "source": [
    "neigh = KNeighborsClassifier(n_neighbors=10)\n",
    "neigh.fit(x_train, y_train)\n",
    "models[\"KNN (10)\"] = neigh"
   ]
  },
  {
   "cell_type": "code",
   "execution_count": 12,
   "metadata": {
    "collapsed": false,
    "deletable": true,
    "editable": true
   },
   "outputs": [
    {
     "name": "stdout",
     "output_type": "stream",
     "text": [
      "Model\t\t\tAccuracy\tPrecision\tRecall\n",
      "1\t\t\t71 %\t\t71 %\t\t67 %\n",
      "2\t\t\t69 %\t\t78 %\t\t48 %\n",
      "3\t\t\t77 %\t\t75 %\t\t77 %\n",
      "4\t\t\t74 %\t\t77 %\t\t67 %\n",
      "5\t\t\t77 %\t\t76 %\t\t76 %\n",
      "6\t\t\t76 %\t\t78 %\t\t71 %\n",
      "7\t\t\t80 %\t\t78 %\t\t81 %\n",
      "8\t\t\t79 %\t\t80 %\t\t76 %\n",
      "9\t\t\t80 %\t\t78 %\t\t81 %\n",
      "10\t\t\t79 %\t\t80 %\t\t78 %\n",
      "11\t\t\t79 %\t\t77 %\t\t81 %\n",
      "12\t\t\t79 %\t\t78 %\t\t79 %\n",
      "13\t\t\t80 %\t\t78 %\t\t83 %\n",
      "14\t\t\t80 %\t\t78 %\t\t80 %\n",
      "15\t\t\t80 %\t\t78 %\t\t83 %\n",
      "16\t\t\t80 %\t\t78 %\t\t82 %\n",
      "17\t\t\t80 %\t\t77 %\t\t83 %\n",
      "18\t\t\t80 %\t\t79 %\t\t81 %\n",
      "19\t\t\t80 %\t\t78 %\t\t82 %\n",
      "20\t\t\t80 %\t\t79 %\t\t81 %\n",
      "21\t\t\t80 %\t\t78 %\t\t82 %\n",
      "22\t\t\t80 %\t\t79 %\t\t80 %\n",
      "23\t\t\t80 %\t\t78 %\t\t82 %\n",
      "24\t\t\t80 %\t\t78 %\t\t81 %\n",
      "25\t\t\t80 %\t\t78 %\t\t81 %\n",
      "26\t\t\t80 %\t\t79 %\t\t81 %\n",
      "27\t\t\t79 %\t\t78 %\t\t81 %\n",
      "28\t\t\t79 %\t\t78 %\t\t80 %\n",
      "29\t\t\t80 %\t\t78 %\t\t81 %\n",
      "30\t\t\t79 %\t\t78 %\t\t80 %\n",
      "31\t\t\t80 %\t\t78 %\t\t81 %\n",
      "32\t\t\t79 %\t\t78 %\t\t80 %\n",
      "33\t\t\t80 %\t\t78 %\t\t81 %\n",
      "34\t\t\t79 %\t\t78 %\t\t81 %\n",
      "35\t\t\t80 %\t\t78 %\t\t81 %\n",
      "36\t\t\t80 %\t\t78 %\t\t81 %\n",
      "37\t\t\t80 %\t\t78 %\t\t82 %\n",
      "38\t\t\t80 %\t\t78 %\t\t82 %\n",
      "39\t\t\t80 %\t\t78 %\t\t82 %\n",
      "40\t\t\t80 %\t\t78 %\t\t82 %\n",
      "41\t\t\t80 %\t\t78 %\t\t83 %\n",
      "42\t\t\t80 %\t\t78 %\t\t82 %\n",
      "43\t\t\t81 %\t\t78 %\t\t84 %\n",
      "44\t\t\t81 %\t\t78 %\t\t83 %\n",
      "45\t\t\t81 %\t\t78 %\t\t85 %\n",
      "46\t\t\t81 %\t\t78 %\t\t84 %\n",
      "47\t\t\t81 %\t\t78 %\t\t84 %\n",
      "48\t\t\t81 %\t\t78 %\t\t84 %\n",
      "49\t\t\t81 %\t\t78 %\t\t85 %\n",
      "50\t\t\t81 %\t\t78 %\t\t84 %\n"
     ]
    }
   ],
   "source": [
    "KNN_models = {}\n",
    "for i in range(1,51):\n",
    "    model = KNeighborsClassifier(n_neighbors=i)\n",
    "    model.fit(x_train, y_train)\n",
    "    KNN_models[str(i)+\"\\t\"] = model\n",
    "print_scores(KNN_models, y_test)"
   ]
  },
  {
   "cell_type": "code",
   "execution_count": 13,
   "metadata": {},
   "outputs": [],
   "source": [
    "# Max recall is for N=11\n",
    "neigh = KNeighborsClassifier(n_neighbors=11)\n",
    "neigh.fit(x_train, y_train)\n",
    "models[\"KNN (11)\"] = neigh"
   ]
  },
  {
   "cell_type": "markdown",
   "metadata": {
    "deletable": true,
    "editable": true
   },
   "source": [
    "## Logistic Regression"
   ]
  },
  {
   "cell_type": "code",
   "execution_count": 14,
   "metadata": {
    "collapsed": true,
    "deletable": true,
    "editable": true
   },
   "outputs": [],
   "source": [
    "logreg = LogisticRegression().fit(x_train, y_train)\n",
    "models[\"LogisticReg\"] = logreg"
   ]
  },
  {
   "cell_type": "markdown",
   "metadata": {
    "collapsed": true,
    "deletable": true,
    "editable": true
   },
   "source": [
    "## Results"
   ]
  },
  {
   "cell_type": "code",
   "execution_count": 15,
   "metadata": {
    "collapsed": true,
    "deletable": true,
    "editable": true
   },
   "outputs": [
    {
     "name": "stdout",
     "output_type": "stream",
     "text": [
      "Model\t\t\tAccuracy\tPrecision\tRecall\n",
      "DecisionTree\t\t76 %\t\t76 %\t\t74 %\n",
      "RandomForest\t\t78 %\t\t76 %\t\t76 %\n",
      "SVC (linear)\t\t80 %\t\t76 %\t\t85 %\n",
      "SVC (rbf)\t\t81 %\t\t77 %\t\t85 %\n",
      "SVC (sigmoid)\t\t77 %\t\t77 %\t\t75 %\n",
      "SVC (poly)\t\t80 %\t\t74 %\t\t87 %\n",
      "KNN (10)\t\t79 %\t\t80 %\t\t78 %\n",
      "KNN (11)\t\t79 %\t\t77 %\t\t81 %\n",
      "LogisticReg\t\t81 %\t\t78 %\t\t85 %\n"
     ]
    }
   ],
   "source": [
    "print_scores(models, y_test)"
   ]
  },
  {
   "cell_type": "markdown",
   "metadata": {},
   "source": [
    "Best accuracy and precision is the Logistic Regression."
   ]
  },
  {
   "cell_type": "code",
   "execution_count": 16,
   "metadata": {},
   "outputs": [
    {
     "data": {
      "image/png": "[encoded data removed]",
      "text/plain": [
       "<Figure size 432x288 with 2 Axes>"
      ]
     },
     "metadata": {
      "needs_background": "light"
     },
     "output_type": "display_data"
    }
   ],
   "source": [
    "conf_mat = metrics.confusion_matrix(y_test, models[\"LogisticReg\"].predict(x_test))\n",
    "display = metrics.ConfusionMatrixDisplay(confusion_matrix=conf_mat, display_labels=[\"Benign\", \"Malignant\"])\n",
    "display.plot()\n",
    "plt.show()"
   ]
  },
  {
   "cell_type": "markdown",
   "metadata": {},
   "source": [
    "Best recall is the SVC (poly)."
   ]
  },
  {
   "cell_type": "code",
   "execution_count": 17,
   "metadata": {},
   "outputs": [
    {
     "data": {
      "image/png": "[encoded data removed]",
      "text/plain": [
       "<Figure size 432x288 with 2 Axes>"
      ]
     },
     "metadata": {
      "needs_background": "light"
     },
     "output_type": "display_data"
    }
   ],
   "source": [
    "conf_mat = metrics.confusion_matrix(y_test, models[\"SVC (poly)\"].predict(x_test))\n",
    "display = metrics.ConfusionMatrixDisplay(confusion_matrix=conf_mat, display_labels=[\"Benign\", \"Malignant\"])\n",
    "display.plot()\n",
    "plt.show()"
   ]
  }
 ],
 "metadata": {
  "kernelspec": {
   "display_name": "Python 3",
   "language": "python",
   "name": "python3"
  },
  "language_info": {
   "codemirror_mode": {
    "name": "ipython",
    "version": 3
   },
   "file_extension": ".py",
   "mimetype": "text/x-python",
   "name": "python",
   "nbconvert_exporter": "python",
   "pygments_lexer": "ipython3",
   "version": "3.7.12"
  }
 },
 "nbformat": 4,
 "nbformat_minor": 2
}
